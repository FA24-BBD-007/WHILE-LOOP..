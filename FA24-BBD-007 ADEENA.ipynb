{
 "cells": [
  {
   "cell_type": "code",
   "execution_count": null,
   "id": "7610a7a7-124c-4139-bafd-5de1fd404368",
   "metadata": {},
   "outputs": [],
   "source": [
    "#QUESTION NO .1\n",
    "count = 1\n",
    "while count <= 10:\n",
    "    print(count)\n",
    "    count += 1\n"
   ]
  },
  {
   "cell_type": "code",
   "execution_count": null,
   "id": "01b51369-2fdb-449e-8e41-b23c07d7da62",
   "metadata": {},
   "outputs": [],
   "source": [
    "#QUESTION NO .2\n",
    "number = 2\n",
    "while number <= 20:\n",
    "    print(number)\n",
    "    number += 2"
   ]
  },
  {
   "cell_type": "code",
   "execution_count": null,
   "id": "2c98ac5a-7d42-47cf-a849-f55f74b10606",
   "metadata": {},
   "outputs": [],
   "source": [
    "#QUESTION NO .3\n",
    "count = 1\n",
    "total_sum = 0\n",
    "\n",
    "while count <= 10:\n",
    "    total_sum += count\n",
    "    count += 1\n",
    "\n",
    "print(\"The sum of the first 10 natural numbers is:\", total_sum)"
   ]
  },
  {
   "cell_type": "code",
   "execution_count": null,
   "id": "518bcd5a-c09a-4cb0-b1a2-8f910486d410",
   "metadata": {},
   "outputs": [],
   "source": [
    "#QUESTION NO .4\n",
    "total_sum = 0\n",
    "\n",
    "while True:\n",
    "    number = int(input(\"Enter a number (negative number to stop): \"))\n",
    "    \n",
    "    if number < 0:\n",
    "        break \n",
    "    \n",
    "    total_sum += number  \n",
    "\n",
    "print(\"The total sum of the numbers entered is:\", total_sum)"
   ]
  },
  {
   "cell_type": "code",
   "execution_count": null,
   "id": "a23c85ac-6193-4626-9a67-b68264204cab",
   "metadata": {},
   "outputs": [],
   "source": [
    "#QUESTION NO .5\n",
    "print(\"Welcome to the Guessing Game!\")\n",
    "print(\"Player 1, think of a number between 1 and 100 for Player 2 to guess.\")\n",
    "target_number = int(input(\"Player 1, enter a number between 1 and 100 (keep it secret from Player 2): \"))\n",
    "print(\"\\n\" * 50) \n",
    "print(\"Player 2, try to guess the number Player 1 chose!\")\n",
    "while True:\n",
    "    guess = int(input(\"Player 2, enter your guess: \"))\n",
    "\n",
    "    if guess < target_number:\n",
    "        print(\"Too low! Try again.\")\n",
    "    elif guess > target_number:\n",
    "        print(\"Too high! Try again.\")\n",
    "    else:\n",
    "        print(\"Congratulations, Player 2! You guessed the correct number.\")\n",
    "        break"
   ]
  },
  {
   "cell_type": "code",
   "execution_count": null,
   "id": "8a4af0d8-74c5-454f-ba04-9e246fc9c5f2",
   "metadata": {},
   "outputs": [],
   "source": [
    "#QUESTION NO .6\n",
    "number = int(input(\"Enter a positive integer to calculate its factorial: \"))\n",
    "factorial = 1\n",
    "count = number\n",
    "while count > 1:\n",
    "    factorial *= count\n",
    "    count -= 1\n",
    "\n",
    "print(f\"The factorial of {number} is: {factorial}\")"
   ]
  },
  {
   "cell_type": "code",
   "execution_count": null,
   "id": "c0d49174-4631-4892-aed7-887f329bd7bd",
   "metadata": {},
   "outputs": [],
   "source": [
    "#QUESTION NO .7\n",
    "total_sum = 0\n",
    "count = 0\n",
    "print(\"Enter numbers to calculate the average. Type 'done' to finish.\")\n",
    "\n",
    "while True:\n",
    "    user_input = input(\"Enter a number (or 'done' to stop): \")\n",
    "    \n",
    "    if user_input.lower() == \"done\":\n",
    "        break\n",
    "    valid = True\n",
    "    for char in user_input:\n",
    "        if char not in \"0123456789.\":\n",
    "            valid = False\n",
    "            break\n",
    "    if valid and user_input.count('.') <= 1:\n",
    "        try:\n",
    "            number = float(user_input)\n",
    "            total_sum += number\n",
    "            count += 1\n",
    "        except ValueError:\n",
    "            print(\"Please enter a valid number.\")\n",
    "    else:\n",
    "        print(\"Please enter a valid number.\")\n",
    "if count > 0:\n",
    "    average = total_sum / count\n",
    "    print(f\"The average of the entered numbers is: {average}\")\n",
    "else:\n",
    "    print(\"No numbers were entered.\")"
   ]
  },
  {
   "cell_type": "code",
   "execution_count": null,
   "id": "d8a92d77-9f59-4d60-8eee-3c5933fc25ce",
   "metadata": {},
   "outputs": [],
   "source": [
    "#QUESTION NO .8\n",
    "\n"
   ]
  }
 ],
 "metadata": {
  "kernelspec": {
   "display_name": "Python 3 (ipykernel)",
   "language": "python",
   "name": "python3"
  },
  "language_info": {
   "codemirror_mode": {
    "name": "ipython",
    "version": 3
   },
   "file_extension": ".py",
   "mimetype": "text/x-python",
   "name": "python",
   "nbconvert_exporter": "python",
   "pygments_lexer": "ipython3",
   "version": "3.12.4"
  }
 },
 "nbformat": 4,
 "nbformat_minor": 5
}
